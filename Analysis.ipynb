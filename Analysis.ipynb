{
 "cells": [
  {
   "cell_type": "markdown",
   "metadata": {},
   "source": [
    "# Data Science Salaries 2021-2023 Data Analysis"
   ]
  },
  {
   "cell_type": "markdown",
   "metadata": {},
   "source": [
    "### 1. Import Relevant Libraries/Packages"
   ]
  },
  {
   "cell_type": "code",
   "execution_count": 1,
   "metadata": {},
   "outputs": [],
   "source": [
    "import pandas as pd\n",
    "import numpy as np\n",
    "import matplotlib.pyplot as plt\n",
    "import seaborn as sns\n",
    "%matplotlib inline\n",
    "\n",
    "import warnings\n",
    "warnings.filterwarnings('ignore')"
   ]
  },
  {
   "cell_type": "markdown",
   "metadata": {},
   "source": [
    "### 2. Load Dataset"
   ]
  },
  {
   "cell_type": "code",
   "execution_count": 59,
   "metadata": {},
   "outputs": [
    {
     "data": {
      "text/html": [
       "<div>\n",
       "<style scoped>\n",
       "    .dataframe tbody tr th:only-of-type {\n",
       "        vertical-align: middle;\n",
       "    }\n",
       "\n",
       "    .dataframe tbody tr th {\n",
       "        vertical-align: top;\n",
       "    }\n",
       "\n",
       "    .dataframe thead th {\n",
       "        text-align: right;\n",
       "    }\n",
       "</style>\n",
       "<table border=\"1\" class=\"dataframe\">\n",
       "  <thead>\n",
       "    <tr style=\"text-align: right;\">\n",
       "      <th></th>\n",
       "      <th>work_year</th>\n",
       "      <th>experience_level</th>\n",
       "      <th>employment_type</th>\n",
       "      <th>job_title</th>\n",
       "      <th>salary</th>\n",
       "      <th>salary_currency</th>\n",
       "      <th>salary_in_usd</th>\n",
       "      <th>employee_residence</th>\n",
       "      <th>remote_ratio</th>\n",
       "      <th>company_location</th>\n",
       "      <th>company_size</th>\n",
       "    </tr>\n",
       "  </thead>\n",
       "  <tbody>\n",
       "    <tr>\n",
       "      <th>0</th>\n",
       "      <td>2023</td>\n",
       "      <td>SE</td>\n",
       "      <td>FT</td>\n",
       "      <td>Principal Data Scientist</td>\n",
       "      <td>80000</td>\n",
       "      <td>EUR</td>\n",
       "      <td>85847</td>\n",
       "      <td>ES</td>\n",
       "      <td>100</td>\n",
       "      <td>ES</td>\n",
       "      <td>L</td>\n",
       "    </tr>\n",
       "    <tr>\n",
       "      <th>1</th>\n",
       "      <td>2023</td>\n",
       "      <td>MI</td>\n",
       "      <td>CT</td>\n",
       "      <td>ML Engineer</td>\n",
       "      <td>30000</td>\n",
       "      <td>USD</td>\n",
       "      <td>30000</td>\n",
       "      <td>US</td>\n",
       "      <td>100</td>\n",
       "      <td>US</td>\n",
       "      <td>S</td>\n",
       "    </tr>\n",
       "    <tr>\n",
       "      <th>2</th>\n",
       "      <td>2023</td>\n",
       "      <td>MI</td>\n",
       "      <td>CT</td>\n",
       "      <td>ML Engineer</td>\n",
       "      <td>25500</td>\n",
       "      <td>USD</td>\n",
       "      <td>25500</td>\n",
       "      <td>US</td>\n",
       "      <td>100</td>\n",
       "      <td>US</td>\n",
       "      <td>S</td>\n",
       "    </tr>\n",
       "    <tr>\n",
       "      <th>3</th>\n",
       "      <td>2023</td>\n",
       "      <td>SE</td>\n",
       "      <td>FT</td>\n",
       "      <td>Data Scientist</td>\n",
       "      <td>175000</td>\n",
       "      <td>USD</td>\n",
       "      <td>175000</td>\n",
       "      <td>CA</td>\n",
       "      <td>100</td>\n",
       "      <td>CA</td>\n",
       "      <td>M</td>\n",
       "    </tr>\n",
       "    <tr>\n",
       "      <th>4</th>\n",
       "      <td>2023</td>\n",
       "      <td>SE</td>\n",
       "      <td>FT</td>\n",
       "      <td>Data Scientist</td>\n",
       "      <td>120000</td>\n",
       "      <td>USD</td>\n",
       "      <td>120000</td>\n",
       "      <td>CA</td>\n",
       "      <td>100</td>\n",
       "      <td>CA</td>\n",
       "      <td>M</td>\n",
       "    </tr>\n",
       "  </tbody>\n",
       "</table>\n",
       "</div>"
      ],
      "text/plain": [
       "   work_year experience_level employment_type                 job_title  \\\n",
       "0       2023               SE              FT  Principal Data Scientist   \n",
       "1       2023               MI              CT               ML Engineer   \n",
       "2       2023               MI              CT               ML Engineer   \n",
       "3       2023               SE              FT            Data Scientist   \n",
       "4       2023               SE              FT            Data Scientist   \n",
       "\n",
       "   salary salary_currency  salary_in_usd employee_residence  remote_ratio  \\\n",
       "0   80000             EUR          85847                 ES           100   \n",
       "1   30000             USD          30000                 US           100   \n",
       "2   25500             USD          25500                 US           100   \n",
       "3  175000             USD         175000                 CA           100   \n",
       "4  120000             USD         120000                 CA           100   \n",
       "\n",
       "  company_location company_size  \n",
       "0               ES            L  \n",
       "1               US            S  \n",
       "2               US            S  \n",
       "3               CA            M  \n",
       "4               CA            M  "
      ]
     },
     "execution_count": 59,
     "metadata": {},
     "output_type": "execute_result"
    }
   ],
   "source": [
    "df = pd.read_csv('ds_salaries.csv')\n",
    "df.head()"
   ]
  },
  {
   "cell_type": "markdown",
   "metadata": {},
   "source": [
    "### 3. Data Exploration"
   ]
  },
  {
   "cell_type": "code",
   "execution_count": 3,
   "metadata": {},
   "outputs": [
    {
     "name": "stdout",
     "output_type": "stream",
     "text": [
      "<class 'pandas.core.frame.DataFrame'>\n",
      "RangeIndex: 3755 entries, 0 to 3754\n",
      "Data columns (total 11 columns):\n",
      " #   Column              Non-Null Count  Dtype \n",
      "---  ------              --------------  ----- \n",
      " 0   work_year           3755 non-null   int64 \n",
      " 1   experience_level    3755 non-null   object\n",
      " 2   employment_type     3755 non-null   object\n",
      " 3   job_title           3755 non-null   object\n",
      " 4   salary              3755 non-null   int64 \n",
      " 5   salary_currency     3755 non-null   object\n",
      " 6   salary_in_usd       3755 non-null   int64 \n",
      " 7   employee_residence  3755 non-null   object\n",
      " 8   remote_ratio        3755 non-null   int64 \n",
      " 9   company_location    3755 non-null   object\n",
      " 10  company_size        3755 non-null   object\n",
      "dtypes: int64(4), object(7)\n",
      "memory usage: 322.8+ KB\n"
     ]
    }
   ],
   "source": [
    "df.info()"
   ]
  },
  {
   "cell_type": "code",
   "execution_count": 4,
   "metadata": {},
   "outputs": [
    {
     "data": {
      "text/html": [
       "<div>\n",
       "<style scoped>\n",
       "    .dataframe tbody tr th:only-of-type {\n",
       "        vertical-align: middle;\n",
       "    }\n",
       "\n",
       "    .dataframe tbody tr th {\n",
       "        vertical-align: top;\n",
       "    }\n",
       "\n",
       "    .dataframe thead th {\n",
       "        text-align: right;\n",
       "    }\n",
       "</style>\n",
       "<table border=\"1\" class=\"dataframe\">\n",
       "  <thead>\n",
       "    <tr style=\"text-align: right;\">\n",
       "      <th></th>\n",
       "      <th>count</th>\n",
       "      <th>mean</th>\n",
       "      <th>std</th>\n",
       "      <th>min</th>\n",
       "      <th>25%</th>\n",
       "      <th>50%</th>\n",
       "      <th>75%</th>\n",
       "      <th>max</th>\n",
       "    </tr>\n",
       "  </thead>\n",
       "  <tbody>\n",
       "    <tr>\n",
       "      <th>work_year</th>\n",
       "      <td>3755.0</td>\n",
       "      <td>2022.373635</td>\n",
       "      <td>0.691448</td>\n",
       "      <td>2020.0</td>\n",
       "      <td>2022.0</td>\n",
       "      <td>2022.0</td>\n",
       "      <td>2023.0</td>\n",
       "      <td>2023.0</td>\n",
       "    </tr>\n",
       "    <tr>\n",
       "      <th>salary</th>\n",
       "      <td>3755.0</td>\n",
       "      <td>190695.571771</td>\n",
       "      <td>671676.500508</td>\n",
       "      <td>6000.0</td>\n",
       "      <td>100000.0</td>\n",
       "      <td>138000.0</td>\n",
       "      <td>180000.0</td>\n",
       "      <td>30400000.0</td>\n",
       "    </tr>\n",
       "    <tr>\n",
       "      <th>salary_in_usd</th>\n",
       "      <td>3755.0</td>\n",
       "      <td>137570.389880</td>\n",
       "      <td>63055.625278</td>\n",
       "      <td>5132.0</td>\n",
       "      <td>95000.0</td>\n",
       "      <td>135000.0</td>\n",
       "      <td>175000.0</td>\n",
       "      <td>450000.0</td>\n",
       "    </tr>\n",
       "    <tr>\n",
       "      <th>remote_ratio</th>\n",
       "      <td>3755.0</td>\n",
       "      <td>46.271638</td>\n",
       "      <td>48.589050</td>\n",
       "      <td>0.0</td>\n",
       "      <td>0.0</td>\n",
       "      <td>0.0</td>\n",
       "      <td>100.0</td>\n",
       "      <td>100.0</td>\n",
       "    </tr>\n",
       "  </tbody>\n",
       "</table>\n",
       "</div>"
      ],
      "text/plain": [
       "                count           mean            std     min       25%  \\\n",
       "work_year      3755.0    2022.373635       0.691448  2020.0    2022.0   \n",
       "salary         3755.0  190695.571771  671676.500508  6000.0  100000.0   \n",
       "salary_in_usd  3755.0  137570.389880   63055.625278  5132.0   95000.0   \n",
       "remote_ratio   3755.0      46.271638      48.589050     0.0       0.0   \n",
       "\n",
       "                    50%       75%         max  \n",
       "work_year        2022.0    2023.0      2023.0  \n",
       "salary         138000.0  180000.0  30400000.0  \n",
       "salary_in_usd  135000.0  175000.0    450000.0  \n",
       "remote_ratio        0.0     100.0       100.0  "
      ]
     },
     "execution_count": 4,
     "metadata": {},
     "output_type": "execute_result"
    }
   ],
   "source": [
    "df.describe().transpose()"
   ]
  },
  {
   "cell_type": "code",
   "execution_count": 5,
   "metadata": {},
   "outputs": [
    {
     "data": {
      "text/html": [
       "<div>\n",
       "<style scoped>\n",
       "    .dataframe tbody tr th:only-of-type {\n",
       "        vertical-align: middle;\n",
       "    }\n",
       "\n",
       "    .dataframe tbody tr th {\n",
       "        vertical-align: top;\n",
       "    }\n",
       "\n",
       "    .dataframe thead th {\n",
       "        text-align: right;\n",
       "    }\n",
       "</style>\n",
       "<table border=\"1\" class=\"dataframe\">\n",
       "  <thead>\n",
       "    <tr style=\"text-align: right;\">\n",
       "      <th></th>\n",
       "      <th>count</th>\n",
       "      <th>unique</th>\n",
       "      <th>top</th>\n",
       "      <th>freq</th>\n",
       "    </tr>\n",
       "  </thead>\n",
       "  <tbody>\n",
       "    <tr>\n",
       "      <th>experience_level</th>\n",
       "      <td>3755</td>\n",
       "      <td>4</td>\n",
       "      <td>SE</td>\n",
       "      <td>2516</td>\n",
       "    </tr>\n",
       "    <tr>\n",
       "      <th>employment_type</th>\n",
       "      <td>3755</td>\n",
       "      <td>4</td>\n",
       "      <td>FT</td>\n",
       "      <td>3718</td>\n",
       "    </tr>\n",
       "    <tr>\n",
       "      <th>job_title</th>\n",
       "      <td>3755</td>\n",
       "      <td>93</td>\n",
       "      <td>Data Engineer</td>\n",
       "      <td>1040</td>\n",
       "    </tr>\n",
       "    <tr>\n",
       "      <th>salary_currency</th>\n",
       "      <td>3755</td>\n",
       "      <td>20</td>\n",
       "      <td>USD</td>\n",
       "      <td>3224</td>\n",
       "    </tr>\n",
       "    <tr>\n",
       "      <th>employee_residence</th>\n",
       "      <td>3755</td>\n",
       "      <td>78</td>\n",
       "      <td>US</td>\n",
       "      <td>3004</td>\n",
       "    </tr>\n",
       "    <tr>\n",
       "      <th>company_location</th>\n",
       "      <td>3755</td>\n",
       "      <td>72</td>\n",
       "      <td>US</td>\n",
       "      <td>3040</td>\n",
       "    </tr>\n",
       "    <tr>\n",
       "      <th>company_size</th>\n",
       "      <td>3755</td>\n",
       "      <td>3</td>\n",
       "      <td>M</td>\n",
       "      <td>3153</td>\n",
       "    </tr>\n",
       "  </tbody>\n",
       "</table>\n",
       "</div>"
      ],
      "text/plain": [
       "                   count unique            top  freq\n",
       "experience_level    3755      4             SE  2516\n",
       "employment_type     3755      4             FT  3718\n",
       "job_title           3755     93  Data Engineer  1040\n",
       "salary_currency     3755     20            USD  3224\n",
       "employee_residence  3755     78             US  3004\n",
       "company_location    3755     72             US  3040\n",
       "company_size        3755      3              M  3153"
      ]
     },
     "execution_count": 5,
     "metadata": {},
     "output_type": "execute_result"
    }
   ],
   "source": [
    "df.describe(include='O').transpose()"
   ]
  },
  {
   "cell_type": "code",
   "execution_count": 6,
   "metadata": {},
   "outputs": [
    {
     "data": {
      "text/plain": [
       "(3755, 11)"
      ]
     },
     "execution_count": 6,
     "metadata": {},
     "output_type": "execute_result"
    }
   ],
   "source": [
    "df.shape"
   ]
  },
  {
   "cell_type": "code",
   "execution_count": 7,
   "metadata": {},
   "outputs": [
    {
     "data": {
      "text/plain": [
       "work_year             0\n",
       "experience_level      0\n",
       "employment_type       0\n",
       "job_title             0\n",
       "salary                0\n",
       "salary_currency       0\n",
       "salary_in_usd         0\n",
       "employee_residence    0\n",
       "remote_ratio          0\n",
       "company_location      0\n",
       "company_size          0\n",
       "dtype: int64"
      ]
     },
     "execution_count": 7,
     "metadata": {},
     "output_type": "execute_result"
    }
   ],
   "source": [
    "df.isna().sum()"
   ]
  },
  {
   "cell_type": "code",
   "execution_count": 8,
   "metadata": {},
   "outputs": [
    {
     "data": {
      "text/plain": [
       "np.int64(1171)"
      ]
     },
     "execution_count": 8,
     "metadata": {},
     "output_type": "execute_result"
    }
   ],
   "source": [
    "df.duplicated().sum()"
   ]
  },
  {
   "cell_type": "code",
   "execution_count": 22,
   "metadata": {},
   "outputs": [
    {
     "data": {
      "text/html": [
       "<div>\n",
       "<style scoped>\n",
       "    .dataframe tbody tr th:only-of-type {\n",
       "        vertical-align: middle;\n",
       "    }\n",
       "\n",
       "    .dataframe tbody tr th {\n",
       "        vertical-align: top;\n",
       "    }\n",
       "\n",
       "    .dataframe thead th {\n",
       "        text-align: right;\n",
       "    }\n",
       "</style>\n",
       "<table border=\"1\" class=\"dataframe\">\n",
       "  <thead>\n",
       "    <tr style=\"text-align: right;\">\n",
       "      <th></th>\n",
       "      <th>work_year</th>\n",
       "      <th>experience_level</th>\n",
       "      <th>employment_type</th>\n",
       "      <th>job_title</th>\n",
       "      <th>salary</th>\n",
       "      <th>salary_currency</th>\n",
       "      <th>salary_in_usd</th>\n",
       "      <th>employee_residence</th>\n",
       "      <th>remote_ratio</th>\n",
       "      <th>company_location</th>\n",
       "      <th>company_size</th>\n",
       "    </tr>\n",
       "  </thead>\n",
       "  <tbody>\n",
       "    <tr>\n",
       "      <th>3522</th>\n",
       "      <td>2020</td>\n",
       "      <td>MI</td>\n",
       "      <td>FT</td>\n",
       "      <td>Research Scientist</td>\n",
       "      <td>450000</td>\n",
       "      <td>USD</td>\n",
       "      <td>450000</td>\n",
       "      <td>US</td>\n",
       "      <td>0</td>\n",
       "      <td>US</td>\n",
       "      <td>M</td>\n",
       "    </tr>\n",
       "    <tr>\n",
       "      <th>2011</th>\n",
       "      <td>2022</td>\n",
       "      <td>MI</td>\n",
       "      <td>FT</td>\n",
       "      <td>Data Analyst</td>\n",
       "      <td>350000</td>\n",
       "      <td>GBP</td>\n",
       "      <td>430967</td>\n",
       "      <td>GB</td>\n",
       "      <td>0</td>\n",
       "      <td>GB</td>\n",
       "      <td>M</td>\n",
       "    </tr>\n",
       "    <tr>\n",
       "      <th>528</th>\n",
       "      <td>2023</td>\n",
       "      <td>SE</td>\n",
       "      <td>FT</td>\n",
       "      <td>AI Scientist</td>\n",
       "      <td>1500000</td>\n",
       "      <td>ILS</td>\n",
       "      <td>423834</td>\n",
       "      <td>IL</td>\n",
       "      <td>0</td>\n",
       "      <td>IL</td>\n",
       "      <td>L</td>\n",
       "    </tr>\n",
       "    <tr>\n",
       "      <th>3747</th>\n",
       "      <td>2021</td>\n",
       "      <td>MI</td>\n",
       "      <td>FT</td>\n",
       "      <td>Applied Machine Learning Scientist</td>\n",
       "      <td>423000</td>\n",
       "      <td>USD</td>\n",
       "      <td>423000</td>\n",
       "      <td>US</td>\n",
       "      <td>50</td>\n",
       "      <td>US</td>\n",
       "      <td>L</td>\n",
       "    </tr>\n",
       "    <tr>\n",
       "      <th>3675</th>\n",
       "      <td>2021</td>\n",
       "      <td>EX</td>\n",
       "      <td>CT</td>\n",
       "      <td>Principal Data Scientist</td>\n",
       "      <td>416000</td>\n",
       "      <td>USD</td>\n",
       "      <td>416000</td>\n",
       "      <td>US</td>\n",
       "      <td>100</td>\n",
       "      <td>US</td>\n",
       "      <td>S</td>\n",
       "    </tr>\n",
       "  </tbody>\n",
       "</table>\n",
       "</div>"
      ],
      "text/plain": [
       "      work_year experience_level employment_type  \\\n",
       "3522       2020               MI              FT   \n",
       "2011       2022               MI              FT   \n",
       "528        2023               SE              FT   \n",
       "3747       2021               MI              FT   \n",
       "3675       2021               EX              CT   \n",
       "\n",
       "                               job_title   salary salary_currency  \\\n",
       "3522                  Research Scientist   450000             USD   \n",
       "2011                        Data Analyst   350000             GBP   \n",
       "528                         AI Scientist  1500000             ILS   \n",
       "3747  Applied Machine Learning Scientist   423000             USD   \n",
       "3675            Principal Data Scientist   416000             USD   \n",
       "\n",
       "      salary_in_usd employee_residence  remote_ratio company_location  \\\n",
       "3522         450000                 US             0               US   \n",
       "2011         430967                 GB             0               GB   \n",
       "528          423834                 IL             0               IL   \n",
       "3747         423000                 US            50               US   \n",
       "3675         416000                 US           100               US   \n",
       "\n",
       "     company_size  \n",
       "3522            M  \n",
       "2011            M  \n",
       "528             L  \n",
       "3747            L  \n",
       "3675            S  "
      ]
     },
     "execution_count": 22,
     "metadata": {},
     "output_type": "execute_result"
    }
   ],
   "source": [
    "# top 5 highest paying records\n",
    "df.nlargest(5, 'salary_in_usd')"
   ]
  },
  {
   "cell_type": "code",
   "execution_count": 23,
   "metadata": {},
   "outputs": [
    {
     "data": {
      "text/html": [
       "<div>\n",
       "<style scoped>\n",
       "    .dataframe tbody tr th:only-of-type {\n",
       "        vertical-align: middle;\n",
       "    }\n",
       "\n",
       "    .dataframe tbody tr th {\n",
       "        vertical-align: top;\n",
       "    }\n",
       "\n",
       "    .dataframe thead th {\n",
       "        text-align: right;\n",
       "    }\n",
       "</style>\n",
       "<table border=\"1\" class=\"dataframe\">\n",
       "  <thead>\n",
       "    <tr style=\"text-align: right;\">\n",
       "      <th></th>\n",
       "      <th>work_year</th>\n",
       "      <th>experience_level</th>\n",
       "      <th>employment_type</th>\n",
       "      <th>job_title</th>\n",
       "      <th>salary</th>\n",
       "      <th>salary_currency</th>\n",
       "      <th>salary_in_usd</th>\n",
       "      <th>employee_residence</th>\n",
       "      <th>remote_ratio</th>\n",
       "      <th>company_location</th>\n",
       "      <th>company_size</th>\n",
       "    </tr>\n",
       "  </thead>\n",
       "  <tbody>\n",
       "    <tr>\n",
       "      <th>2684</th>\n",
       "      <td>2022</td>\n",
       "      <td>MI</td>\n",
       "      <td>FT</td>\n",
       "      <td>NLP Engineer</td>\n",
       "      <td>120000</td>\n",
       "      <td>CZK</td>\n",
       "      <td>5132</td>\n",
       "      <td>CZ</td>\n",
       "      <td>100</td>\n",
       "      <td>CZ</td>\n",
       "      <td>M</td>\n",
       "    </tr>\n",
       "    <tr>\n",
       "      <th>2578</th>\n",
       "      <td>2021</td>\n",
       "      <td>EN</td>\n",
       "      <td>FT</td>\n",
       "      <td>Power BI Developer</td>\n",
       "      <td>400000</td>\n",
       "      <td>INR</td>\n",
       "      <td>5409</td>\n",
       "      <td>IN</td>\n",
       "      <td>50</td>\n",
       "      <td>IN</td>\n",
       "      <td>L</td>\n",
       "    </tr>\n",
       "    <tr>\n",
       "      <th>3537</th>\n",
       "      <td>2021</td>\n",
       "      <td>MI</td>\n",
       "      <td>PT</td>\n",
       "      <td>3D Computer Vision Researcher</td>\n",
       "      <td>400000</td>\n",
       "      <td>INR</td>\n",
       "      <td>5409</td>\n",
       "      <td>IN</td>\n",
       "      <td>50</td>\n",
       "      <td>IN</td>\n",
       "      <td>M</td>\n",
       "    </tr>\n",
       "    <tr>\n",
       "      <th>3667</th>\n",
       "      <td>2021</td>\n",
       "      <td>MI</td>\n",
       "      <td>FT</td>\n",
       "      <td>Data Scientist</td>\n",
       "      <td>420000</td>\n",
       "      <td>INR</td>\n",
       "      <td>5679</td>\n",
       "      <td>IN</td>\n",
       "      <td>100</td>\n",
       "      <td>US</td>\n",
       "      <td>S</td>\n",
       "    </tr>\n",
       "    <tr>\n",
       "      <th>3685</th>\n",
       "      <td>2020</td>\n",
       "      <td>EN</td>\n",
       "      <td>FT</td>\n",
       "      <td>Data Science Consultant</td>\n",
       "      <td>423000</td>\n",
       "      <td>INR</td>\n",
       "      <td>5707</td>\n",
       "      <td>IN</td>\n",
       "      <td>50</td>\n",
       "      <td>IN</td>\n",
       "      <td>M</td>\n",
       "    </tr>\n",
       "  </tbody>\n",
       "</table>\n",
       "</div>"
      ],
      "text/plain": [
       "      work_year experience_level employment_type  \\\n",
       "2684       2022               MI              FT   \n",
       "2578       2021               EN              FT   \n",
       "3537       2021               MI              PT   \n",
       "3667       2021               MI              FT   \n",
       "3685       2020               EN              FT   \n",
       "\n",
       "                          job_title  salary salary_currency  salary_in_usd  \\\n",
       "2684                   NLP Engineer  120000             CZK           5132   \n",
       "2578             Power BI Developer  400000             INR           5409   \n",
       "3537  3D Computer Vision Researcher  400000             INR           5409   \n",
       "3667                 Data Scientist  420000             INR           5679   \n",
       "3685        Data Science Consultant  423000             INR           5707   \n",
       "\n",
       "     employee_residence  remote_ratio company_location company_size  \n",
       "2684                 CZ           100               CZ            M  \n",
       "2578                 IN            50               IN            L  \n",
       "3537                 IN            50               IN            M  \n",
       "3667                 IN           100               US            S  \n",
       "3685                 IN            50               IN            M  "
      ]
     },
     "execution_count": 23,
     "metadata": {},
     "output_type": "execute_result"
    }
   ],
   "source": [
    "# top 5 lowest paying records\n",
    "df.nsmallest(5, 'salary_in_usd')"
   ]
  },
  {
   "cell_type": "code",
   "execution_count": 11,
   "metadata": {},
   "outputs": [
    {
     "data": {
      "text/plain": [
       "work_year                4\n",
       "experience_level         4\n",
       "employment_type          4\n",
       "job_title               93\n",
       "salary                 815\n",
       "salary_currency         20\n",
       "salary_in_usd         1035\n",
       "employee_residence      78\n",
       "remote_ratio             3\n",
       "company_location        72\n",
       "company_size             3\n",
       "dtype: int64"
      ]
     },
     "execution_count": 11,
     "metadata": {},
     "output_type": "execute_result"
    }
   ],
   "source": [
    "df.nunique()"
   ]
  },
  {
   "cell_type": "code",
   "execution_count": 24,
   "metadata": {},
   "outputs": [
    {
     "data": {
      "text/plain": [
       "work_year\n",
       "2023    149045.541176\n",
       "2022    133338.620793\n",
       "2021     94087.208696\n",
       "2020     92302.631579\n",
       "Name: salary_in_usd, dtype: float64"
      ]
     },
     "execution_count": 24,
     "metadata": {},
     "output_type": "execute_result"
    }
   ],
   "source": [
    "# Grouping by work_year and calculating the mean salary\n",
    "df.groupby('work_year')['salary_in_usd'].mean().sort_values(ascending=False)"
   ]
  },
  {
   "cell_type": "code",
   "execution_count": 25,
   "metadata": {},
   "outputs": [
    {
     "data": {
      "text/plain": [
       "experience_level\n",
       "EX    194930.929825\n",
       "SE    153051.071542\n",
       "MI    104525.939130\n",
       "EN     78546.284375\n",
       "Name: salary_in_usd, dtype: float64"
      ]
     },
     "execution_count": 25,
     "metadata": {},
     "output_type": "execute_result"
    }
   ],
   "source": [
    "# Grouping by experience and calculating the mean salary\n",
    "df.groupby('experience_level')['salary_in_usd'].mean().sort_values(ascending=False)"
   ]
  },
  {
   "cell_type": "code",
   "execution_count": 26,
   "metadata": {},
   "outputs": [
    {
     "data": {
      "text/plain": [
       "employment_type\n",
       "FT    138314.199570\n",
       "CT    113446.900000\n",
       "FL     51807.800000\n",
       "PT     39533.705882\n",
       "Name: salary_in_usd, dtype: float64"
      ]
     },
     "execution_count": 26,
     "metadata": {},
     "output_type": "execute_result"
    }
   ],
   "source": [
    "# Grouping by employment_type and calculating the mean salary\n",
    "df.groupby('employment_type')['salary_in_usd'].mean().sort_values(ascending=False)"
   ]
  },
  {
   "cell_type": "code",
   "execution_count": 20,
   "metadata": {},
   "outputs": [
    {
     "data": {
      "text/plain": [
       "employee_residence\n",
       "US    159345.832084\n",
       "CA    138567.090909\n",
       "CH    120747.500000\n",
       "SG    119059.000000\n",
       "IE    115514.750000\n",
       "Name: salary_in_usd, dtype: float64"
      ]
     },
     "execution_count": 20,
     "metadata": {},
     "output_type": "execute_result"
    }
   ],
   "source": [
    "# Top five employee residence with highest average salary where job title is data scientist\n",
    "df[df['job_title'] == 'Data Scientist'].groupby('employee_residence')['salary_in_usd'].mean().nlargest(5)"
   ]
  },
  {
   "cell_type": "code",
   "execution_count": 21,
   "metadata": {},
   "outputs": [
    {
     "data": {
      "text/plain": [
       "employee_residence\n",
       "CN    125404.000000\n",
       "US    117505.387283\n",
       "UZ    100000.000000\n",
       "CA     92440.562500\n",
       "HR     91142.500000\n",
       "Name: salary_in_usd, dtype: float64"
      ]
     },
     "execution_count": 21,
     "metadata": {},
     "output_type": "execute_result"
    }
   ],
   "source": [
    "# Top five employee residence with highest average salary where job title is data analyst\n",
    "df[df['job_title'] == 'Data Analyst'].groupby('employee_residence')['salary_in_usd'].mean().nlargest(5)"
   ]
  },
  {
   "cell_type": "code",
   "execution_count": 27,
   "metadata": {},
   "outputs": [
    {
     "data": {
      "text/plain": [
       "remote_ratio\n",
       "0      144316.202288\n",
       "100    136481.452830\n",
       "50      78400.687831\n",
       "Name: salary_in_usd, dtype: float64"
      ]
     },
     "execution_count": 27,
     "metadata": {},
     "output_type": "execute_result"
    }
   ],
   "source": [
    "# Grouping by remote ratio and calculating the mean salary\n",
    "df.groupby('remote_ratio')['salary_in_usd'].mean().sort_values(ascending=False)"
   ]
  },
  {
   "cell_type": "code",
   "execution_count": 28,
   "metadata": {},
   "outputs": [
    {
     "data": {
      "text/plain": [
       "company_size\n",
       "M    143130.548367\n",
       "L    118300.982379\n",
       "S     78226.682432\n",
       "Name: salary_in_usd, dtype: float64"
      ]
     },
     "execution_count": 28,
     "metadata": {},
     "output_type": "execute_result"
    }
   ],
   "source": [
    "# Grouping by company_size and calculating the mean salary\n",
    "df.groupby('company_size')['salary_in_usd'].mean().sort_values(ascending=False)"
   ]
  },
  {
   "cell_type": "markdown",
   "metadata": {},
   "source": [
    "### 4. Data Preprocessing"
   ]
  },
  {
   "cell_type": "markdown",
   "metadata": {},
   "source": [
    "Let's drop the 'salary' and 'salary_currency' columns because these both columns don't give so much value in our analysis. We have column 'salary_in_usd' which give us the  information of salary and all salary records are in same currency."
   ]
  },
  {
   "cell_type": "code",
   "execution_count": 60,
   "metadata": {},
   "outputs": [
    {
     "data": {
      "text/html": [
       "<div>\n",
       "<style scoped>\n",
       "    .dataframe tbody tr th:only-of-type {\n",
       "        vertical-align: middle;\n",
       "    }\n",
       "\n",
       "    .dataframe tbody tr th {\n",
       "        vertical-align: top;\n",
       "    }\n",
       "\n",
       "    .dataframe thead th {\n",
       "        text-align: right;\n",
       "    }\n",
       "</style>\n",
       "<table border=\"1\" class=\"dataframe\">\n",
       "  <thead>\n",
       "    <tr style=\"text-align: right;\">\n",
       "      <th></th>\n",
       "      <th>work_year</th>\n",
       "      <th>experience_level</th>\n",
       "      <th>employment_type</th>\n",
       "      <th>job_title</th>\n",
       "      <th>salary_in_usd</th>\n",
       "      <th>employee_residence</th>\n",
       "      <th>remote_ratio</th>\n",
       "      <th>company_location</th>\n",
       "      <th>company_size</th>\n",
       "    </tr>\n",
       "  </thead>\n",
       "  <tbody>\n",
       "    <tr>\n",
       "      <th>0</th>\n",
       "      <td>2023</td>\n",
       "      <td>SE</td>\n",
       "      <td>FT</td>\n",
       "      <td>Principal Data Scientist</td>\n",
       "      <td>85847</td>\n",
       "      <td>ES</td>\n",
       "      <td>100</td>\n",
       "      <td>ES</td>\n",
       "      <td>L</td>\n",
       "    </tr>\n",
       "    <tr>\n",
       "      <th>1</th>\n",
       "      <td>2023</td>\n",
       "      <td>MI</td>\n",
       "      <td>CT</td>\n",
       "      <td>ML Engineer</td>\n",
       "      <td>30000</td>\n",
       "      <td>US</td>\n",
       "      <td>100</td>\n",
       "      <td>US</td>\n",
       "      <td>S</td>\n",
       "    </tr>\n",
       "    <tr>\n",
       "      <th>2</th>\n",
       "      <td>2023</td>\n",
       "      <td>MI</td>\n",
       "      <td>CT</td>\n",
       "      <td>ML Engineer</td>\n",
       "      <td>25500</td>\n",
       "      <td>US</td>\n",
       "      <td>100</td>\n",
       "      <td>US</td>\n",
       "      <td>S</td>\n",
       "    </tr>\n",
       "    <tr>\n",
       "      <th>3</th>\n",
       "      <td>2023</td>\n",
       "      <td>SE</td>\n",
       "      <td>FT</td>\n",
       "      <td>Data Scientist</td>\n",
       "      <td>175000</td>\n",
       "      <td>CA</td>\n",
       "      <td>100</td>\n",
       "      <td>CA</td>\n",
       "      <td>M</td>\n",
       "    </tr>\n",
       "    <tr>\n",
       "      <th>4</th>\n",
       "      <td>2023</td>\n",
       "      <td>SE</td>\n",
       "      <td>FT</td>\n",
       "      <td>Data Scientist</td>\n",
       "      <td>120000</td>\n",
       "      <td>CA</td>\n",
       "      <td>100</td>\n",
       "      <td>CA</td>\n",
       "      <td>M</td>\n",
       "    </tr>\n",
       "  </tbody>\n",
       "</table>\n",
       "</div>"
      ],
      "text/plain": [
       "   work_year experience_level employment_type                 job_title  \\\n",
       "0       2023               SE              FT  Principal Data Scientist   \n",
       "1       2023               MI              CT               ML Engineer   \n",
       "2       2023               MI              CT               ML Engineer   \n",
       "3       2023               SE              FT            Data Scientist   \n",
       "4       2023               SE              FT            Data Scientist   \n",
       "\n",
       "   salary_in_usd employee_residence  remote_ratio company_location  \\\n",
       "0          85847                 ES           100               ES   \n",
       "1          30000                 US           100               US   \n",
       "2          25500                 US           100               US   \n",
       "3         175000                 CA           100               CA   \n",
       "4         120000                 CA           100               CA   \n",
       "\n",
       "  company_size  \n",
       "0            L  \n",
       "1            S  \n",
       "2            S  \n",
       "3            M  \n",
       "4            M  "
      ]
     },
     "execution_count": 60,
     "metadata": {},
     "output_type": "execute_result"
    }
   ],
   "source": [
    "df = df.drop(['salary','salary_currency'], axis=1)\n",
    "df.head()"
   ]
  },
  {
   "cell_type": "code",
   "execution_count": 61,
   "metadata": {},
   "outputs": [],
   "source": [
    "# Let's perform some feature engineering or value transformation\n",
    "\n",
    "# Transforming experience level to full form in place of abbreviation\n",
    "df['experience_level'] = df['experience_level'].map({'SE': 'Senior', 'EN': 'Entry-Level', 'EX': 'Executive', 'MI': 'Mid-Level'})\n",
    "\n",
    "# Transforming employment type to full form in place of abbreviation\n",
    "df['employment_type'] = df['employment_type'].map({'FT': 'Full-Time', 'PT': 'Part-Time', 'CT': 'Contract', 'FL': 'Freelance'})\n",
    "\n",
    "# Transforming remote ratio to full form in place of numerical value\n",
    "df['remote_ratio'] = df['remote_ratio'].map({100: 'Fully Remote', 50: 'Hybrid', 0: 'Onsite'})\n",
    "\n",
    "# Transforming company size to full form in place of abbreviation\n",
    "df['company_size'] = df['company_size'].map({'S': 'Small', 'M': 'Medium', 'L': 'Large'})"
   ]
  },
  {
   "cell_type": "code",
   "execution_count": 62,
   "metadata": {},
   "outputs": [
    {
     "data": {
      "text/html": [
       "<div>\n",
       "<style scoped>\n",
       "    .dataframe tbody tr th:only-of-type {\n",
       "        vertical-align: middle;\n",
       "    }\n",
       "\n",
       "    .dataframe tbody tr th {\n",
       "        vertical-align: top;\n",
       "    }\n",
       "\n",
       "    .dataframe thead th {\n",
       "        text-align: right;\n",
       "    }\n",
       "</style>\n",
       "<table border=\"1\" class=\"dataframe\">\n",
       "  <thead>\n",
       "    <tr style=\"text-align: right;\">\n",
       "      <th></th>\n",
       "      <th>work_year</th>\n",
       "      <th>experience_level</th>\n",
       "      <th>employment_type</th>\n",
       "      <th>job_title</th>\n",
       "      <th>salary_in_usd</th>\n",
       "      <th>employee_residence</th>\n",
       "      <th>remote_ratio</th>\n",
       "      <th>company_location</th>\n",
       "      <th>company_size</th>\n",
       "    </tr>\n",
       "  </thead>\n",
       "  <tbody>\n",
       "    <tr>\n",
       "      <th>0</th>\n",
       "      <td>2023</td>\n",
       "      <td>Senior</td>\n",
       "      <td>Full-Time</td>\n",
       "      <td>Principal Data Scientist</td>\n",
       "      <td>85847</td>\n",
       "      <td>ES</td>\n",
       "      <td>Fully Remote</td>\n",
       "      <td>ES</td>\n",
       "      <td>Large</td>\n",
       "    </tr>\n",
       "    <tr>\n",
       "      <th>1</th>\n",
       "      <td>2023</td>\n",
       "      <td>Mid-Level</td>\n",
       "      <td>Contract</td>\n",
       "      <td>ML Engineer</td>\n",
       "      <td>30000</td>\n",
       "      <td>US</td>\n",
       "      <td>Fully Remote</td>\n",
       "      <td>US</td>\n",
       "      <td>Small</td>\n",
       "    </tr>\n",
       "    <tr>\n",
       "      <th>2</th>\n",
       "      <td>2023</td>\n",
       "      <td>Mid-Level</td>\n",
       "      <td>Contract</td>\n",
       "      <td>ML Engineer</td>\n",
       "      <td>25500</td>\n",
       "      <td>US</td>\n",
       "      <td>Fully Remote</td>\n",
       "      <td>US</td>\n",
       "      <td>Small</td>\n",
       "    </tr>\n",
       "    <tr>\n",
       "      <th>3</th>\n",
       "      <td>2023</td>\n",
       "      <td>Senior</td>\n",
       "      <td>Full-Time</td>\n",
       "      <td>Data Scientist</td>\n",
       "      <td>175000</td>\n",
       "      <td>CA</td>\n",
       "      <td>Fully Remote</td>\n",
       "      <td>CA</td>\n",
       "      <td>Medium</td>\n",
       "    </tr>\n",
       "    <tr>\n",
       "      <th>4</th>\n",
       "      <td>2023</td>\n",
       "      <td>Senior</td>\n",
       "      <td>Full-Time</td>\n",
       "      <td>Data Scientist</td>\n",
       "      <td>120000</td>\n",
       "      <td>CA</td>\n",
       "      <td>Fully Remote</td>\n",
       "      <td>CA</td>\n",
       "      <td>Medium</td>\n",
       "    </tr>\n",
       "  </tbody>\n",
       "</table>\n",
       "</div>"
      ],
      "text/plain": [
       "   work_year experience_level employment_type                 job_title  \\\n",
       "0       2023           Senior       Full-Time  Principal Data Scientist   \n",
       "1       2023        Mid-Level        Contract               ML Engineer   \n",
       "2       2023        Mid-Level        Contract               ML Engineer   \n",
       "3       2023           Senior       Full-Time            Data Scientist   \n",
       "4       2023           Senior       Full-Time            Data Scientist   \n",
       "\n",
       "   salary_in_usd employee_residence  remote_ratio company_location  \\\n",
       "0          85847                 ES  Fully Remote               ES   \n",
       "1          30000                 US  Fully Remote               US   \n",
       "2          25500                 US  Fully Remote               US   \n",
       "3         175000                 CA  Fully Remote               CA   \n",
       "4         120000                 CA  Fully Remote               CA   \n",
       "\n",
       "  company_size  \n",
       "0        Large  \n",
       "1        Small  \n",
       "2        Small  \n",
       "3       Medium  \n",
       "4       Medium  "
      ]
     },
     "execution_count": 62,
     "metadata": {},
     "output_type": "execute_result"
    }
   ],
   "source": [
    "df.head()"
   ]
  },
  {
   "cell_type": "code",
   "execution_count": 63,
   "metadata": {},
   "outputs": [
    {
     "data": {
      "text/plain": [
       "job_title\n",
       "Data Engineer                1040\n",
       "Data Scientist                840\n",
       "Data Analyst                  612\n",
       "Machine Learning Engineer     289\n",
       "Analytics Engineer            103\n",
       "                             ... \n",
       "Principal Data Architect        1\n",
       "Head of Machine Learning        1\n",
       "Cloud Data Architect            1\n",
       "Staff Data Scientist            1\n",
       "Finance Data Analyst            1\n",
       "Name: count, Length: 93, dtype: int64"
      ]
     },
     "execution_count": 63,
     "metadata": {},
     "output_type": "execute_result"
    }
   ],
   "source": [
    "df['job_title'].value_counts()"
   ]
  },
  {
   "cell_type": "markdown",
   "metadata": {},
   "source": [
    "**Important:** We need to deal with this 'job_title' column because this column contain lot's of values with kind of same working profession like: 'data scientist' and 'head data scientist' is almost same profession, the position is main difference. Another example, 'data analyst' and 'finance data analyst' or 'cloud data analyst' or 'market analyst' is also kind of same profession, although their domain might be different but working is almost same. So, we need to deal with this issue. "
   ]
  },
  {
   "cell_type": "code",
   "execution_count": 64,
   "metadata": {},
   "outputs": [],
   "source": [
    "# Let's make all values same with contain word 'Data Scientist'\n",
    "def data_science(x):\n",
    "    if 'Data Scientist' in x:\n",
    "        return 'Data Scientist'\n",
    "    elif 'Data Science' in x:\n",
    "        return 'Data Scientist'\n",
    "    else:\n",
    "        return x\n",
    "\n",
    "df['job_title'] = df['job_title'].apply(lambda x: data_science(x))"
   ]
  },
  {
   "cell_type": "code",
   "execution_count": 65,
   "metadata": {},
   "outputs": [],
   "source": [
    "# Let's make all values same with contain word 'Data Analyst'\n",
    "def data_analyst(x):\n",
    "    if 'Data Analyst' in x:\n",
    "        return 'Data Analyst'\n",
    "    elif 'Data Analysis' in x:\n",
    "        return 'Data Analyst'\n",
    "    elif 'Data Analytics' in x:\n",
    "        return 'Data Analyst'\n",
    "    elif 'Analyst' in x:\n",
    "        return 'Data Analyst'\n",
    "    else:\n",
    "        return x\n",
    "    \n",
    "df['job_title'] = df['job_title'].apply(lambda x: data_analyst(x))"
   ]
  },
  {
   "cell_type": "code",
   "execution_count": 79,
   "metadata": {},
   "outputs": [],
   "source": [
    "# Let's make all values same with contain word 'Machine Learning Engineer'\n",
    "def machine_learning(x):\n",
    "    if 'Machine Learning Engineer' in x:\n",
    "        return 'Machine Learning Engineer'\n",
    "    elif 'Machine Learning' in x:\n",
    "        return 'Machine Learning Engineer'\n",
    "    elif 'ML Engineer' in x:\n",
    "        return 'Machine Learning Engineer'\n",
    "    elif 'MLOps Engineer' in x:\n",
    "        return 'Machine Learning Engineer'\n",
    "    else:\n",
    "        return x\n",
    "\n",
    "df['job_title'] = df['job_title'].apply(lambda x: machine_learning(x))"
   ]
  },
  {
   "cell_type": "code",
   "execution_count": 81,
   "metadata": {},
   "outputs": [],
   "source": [
    "# Let's make all values same with contain word 'Data Engineer'\n",
    "def data_engineer(x):\n",
    "    if 'Data Engineer' in x:\n",
    "        return 'Data Engineer'\n",
    "    elif 'Data Engineering' in x:\n",
    "        return 'Data Engineer'\n",
    "    elif 'Analytics Engineer' in x:\n",
    "        return 'Data Engineer'\n",
    "    elif 'ETL Engineer' in x:\n",
    "        return 'Data Engineer'\n",
    "    elif 'Big Data Engineer' in x:\n",
    "        return 'Data Engineer'\n",
    "    elif 'Data Infrastructure Engineer' in x:\n",
    "        return 'Data Engineer'\n",
    "    elif 'Data Operations Engineer' in x:\n",
    "        return 'Data Engineer'\n",
    "    elif 'ETL Developer' in x:\n",
    "        return 'Data Engineer'\n",
    "    elif 'Business Intelligence Engineer' in x:\n",
    "        return 'Data Engineer'\n",
    "    else:\n",
    "        return x\n",
    "df['job_title'] = df['job_title'].apply(lambda x: data_engineer(x))"
   ]
  },
  {
   "cell_type": "code",
   "execution_count": 69,
   "metadata": {},
   "outputs": [],
   "source": [
    "# Let's make all values same with contain word 'Data Architect'\n",
    "def data_architect(x):\n",
    "    if 'Data Architect' in x:\n",
    "        return 'Data Architect'\n",
    "    elif 'Data Architecture' in x:\n",
    "        return 'Data Architect'\n",
    "    else:\n",
    "        return x\n",
    "\n",
    "df['job_title'] = df['job_title'].apply(lambda x: data_architect(x))"
   ]
  },
  {
   "cell_type": "code",
   "execution_count": 82,
   "metadata": {},
   "outputs": [
    {
     "data": {
      "text/plain": [
       "job_title\n",
       "Data Engineer                        1202\n",
       "Data Scientist                        987\n",
       "Data Analyst                          718\n",
       "Machine Learning Engineer             413\n",
       "Data Architect                        105\n",
       "Research Scientist                     82\n",
       "Applied Scientist                      58\n",
       "Research Engineer                      37\n",
       "Data Manager                           29\n",
       "Computer Vision Engineer               18\n",
       "AI Scientist                           16\n",
       "Data Specialist                        14\n",
       "BI Developer                           13\n",
       "AI Developer                           11\n",
       "Head of Data                           10\n",
       "NLP Engineer                            7\n",
       "Deep Learning Engineer                  6\n",
       "Cloud Database Engineer                 5\n",
       "Computer Vision Software Engineer       5\n",
       "3D Computer Vision Researcher           4\n",
       "Data Modeler                            2\n",
       "Data Strategist                         2\n",
       "Autonomous Vehicle Technician           2\n",
       "Data Lead                               2\n",
       "AI Programmer                           2\n",
       "Data DevOps Engineer                    1\n",
       "Deep Learning Researcher                1\n",
       "Manager Data Management                 1\n",
       "Data Management Specialist              1\n",
       "Power BI Developer                      1\n",
       "Name: count, dtype: int64"
      ]
     },
     "execution_count": 82,
     "metadata": {},
     "output_type": "execute_result"
    }
   ],
   "source": [
    "df['job_title'].value_counts()"
   ]
  },
  {
   "cell_type": "code",
   "execution_count": null,
   "metadata": {},
   "outputs": [],
   "source": []
  }
 ],
 "metadata": {
  "kernelspec": {
   "display_name": "Python 3",
   "language": "python",
   "name": "python3"
  },
  "language_info": {
   "codemirror_mode": {
    "name": "ipython",
    "version": 3
   },
   "file_extension": ".py",
   "mimetype": "text/x-python",
   "name": "python",
   "nbconvert_exporter": "python",
   "pygments_lexer": "ipython3",
   "version": "3.11.9"
  }
 },
 "nbformat": 4,
 "nbformat_minor": 2
}
